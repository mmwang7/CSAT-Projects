{
 "cells": [
  {
   "cell_type": "code",
   "execution_count": 1,
   "metadata": {},
   "outputs": [],
   "source": [
    "from bs4 import BeautifulSoup as soup\n",
    "from urllib.request import urlopen as uReq\n",
    "import pandas as pd"
   ]
  },
  {
   "cell_type": "code",
   "execution_count": 2,
   "metadata": {},
   "outputs": [
    {
     "data": {
      "text/plain": [
       "'https://www.ebay.com/sch/i.html?_from=R40&_trksid=p2334524.m570.l1313&_nkw=playstation+5&_sacat=0&LH_TitleDesc=0&_odkw=ps5&_osacat=0'"
      ]
     },
     "execution_count": 2,
     "metadata": {},
     "output_type": "execute_result"
    }
   ],
   "source": [
    "query = \"playstation+5\"\n",
    "my_url = 'https://www.ebay.com/sch/i.html?_from=R40&_trksid=p2334524.m570.l1313&_nkw=playstation+5&_sacat=0&LH_TitleDesc=0&_odkw=ps5&_osacat=0'.format(query)\n",
    "my_url"
   ]
  },
  {
   "cell_type": "code",
   "execution_count": 3,
   "metadata": {},
   "outputs": [],
   "source": [
    "uClient = uReq(my_url)\n",
    "page_html = uClient.read()\n",
    "uClient.close()\n",
    "\n",
    "page_soup = soup(page_html, 'html.parser')"
   ]
  },
  {
   "cell_type": "code",
   "execution_count": 4,
   "metadata": {},
   "outputs": [
    {
     "data": {
      "text/plain": [
       "array([ 20.  , 809.95, 749.99, 749.  , 799.  , 799.95, 460.  , 778.  ,\n",
       "       809.99, 799.99, 749.  , 740.  , 739.99, 670.  , 809.  , 734.99,\n",
       "       779.  , 525.  , 649.99, 590.  , 300.  , 449.  , 779.  , 730.  ,\n",
       "       749.99, 595.  , 655.  , 849.99, 550.  , 679.  , 659.  , 749.99,\n",
       "       789.  , 734.99, 640.  , 779.  , 709.99, 599.99, 770.  , 879.99,\n",
       "       689.99, 710.  , 809.95, 739.  , 712.  , 499.  , 700.  , 748.99,\n",
       "       700.  , 489.  , 768.  , 689.99, 650.  , 590.  , 620.  , 599.99,\n",
       "       620.  , 660.  , 201.5 , 344.56, 550.  , 399.95, 415.  , 620.  ,\n",
       "       729.95, 645.  , 570.  , 614.  , 649.99, 349.  , 675.  , 730.  ,\n",
       "       710.  , 600.  , 784.95, 809.  ])"
      ]
     },
     "execution_count": 4,
     "metadata": {},
     "output_type": "execute_result"
    }
   ],
   "source": [
    "divs = page_soup.findAll('div',{'class':'s-item__details clearfix'})\n",
    "prices = []\n",
    "\n",
    "for PS5 in divs: \n",
    "    price = PS5.find('span',{'class':\"s-item__price\"})\n",
    "    price = price.text[1:]\n",
    "    price = price.replace(',','')\n",
    "    prices.append(price)\n",
    "\n",
    "\n",
    "prices = pd.to_numeric(prices,errors='coerce')\n",
    "prices"
   ]
  },
  {
   "cell_type": "code",
   "execution_count": 5,
   "metadata": {},
   "outputs": [
    {
     "data": {
      "text/plain": [
       "Text(0, 0.5, 'Price in USD')"
      ]
     },
     "execution_count": 5,
     "metadata": {},
     "output_type": "execute_result"
    },
    {
     "data": {
      "image/png": "[encoded data removed]",
      "text/plain": [
       "<Figure size 432x288 with 1 Axes>"
      ]
     },
     "metadata": {},
     "output_type": "display_data"
    }
   ],
   "source": [
    "import seaborn as sns\n",
    "sns.set()\n",
    "box = sns.boxplot(data=prices)\n",
    "box.set_xlabel(\"Playstation 5\")\n",
    "box.set_ylabel(\"Price in USD\")"
   ]
  },
  {
   "cell_type": "code",
   "execution_count": 6,
   "metadata": {},
   "outputs": [
    {
     "data": {
      "image/png": "[encoded data removed]",
      "text/plain": [
       "<Figure size 360x360 with 1 Axes>"
      ]
     },
     "metadata": {},
     "output_type": "display_data"
    }
   ],
   "source": [
    "hist = sns.displot(data=prices)"
   ]
  }
 ],
 "metadata": {
  "interpreter": {
   "hash": "cc66bf1a1cac9323b91927a78f07dc7e452d6b2e297a31f577966bda590b7c6f"
  },
  "kernelspec": {
   "display_name": "Python 3.8.5 ('base')",
   "language": "python",
   "name": "python3"
  },
  "language_info": {
   "codemirror_mode": {
    "name": "ipython",
    "version": 3
   },
   "file_extension": ".py",
   "mimetype": "text/x-python",
   "name": "python",
   "nbconvert_exporter": "python",
   "pygments_lexer": "ipython3",
   "version": "3.8.5"
  },
  "orig_nbformat": 4
 },
 "nbformat": 4,
 "nbformat_minor": 2
}
