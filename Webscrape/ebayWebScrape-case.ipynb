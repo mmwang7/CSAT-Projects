{
 "cells": [
  {
   "cell_type": "code",
   "execution_count": 1,
   "metadata": {},
   "outputs": [],
   "source": [
    "from bs4 import BeautifulSoup as soup\n",
    "from urllib.request import urlopen as uReq\n",
    "import pandas as pd"
   ]
  },
  {
   "cell_type": "code",
   "execution_count": 2,
   "metadata": {},
   "outputs": [
    {
     "data": {
      "text/plain": [
       "'https://www.ebay.com/sch/i.html?_from=R40&_trksid=p2334524.m570.l1313&_nkw=iphone+13+case&_sacat=0&LH_TitleDesc=0&_odkw=ps5&_osacat=0'"
      ]
     },
     "execution_count": 2,
     "metadata": {},
     "output_type": "execute_result"
    }
   ],
   "source": [
    "query = \"iphone+13+case\"\n",
    "my_url = 'https://www.ebay.com/sch/i.html?_from=R40&_trksid=p2334524.m570.l1313&_nkw=iphone+13+case&_sacat=0&LH_TitleDesc=0&_odkw=ps5&_osacat=0'.format(query)\n",
    "my_url"
   ]
  },
  {
   "cell_type": "code",
   "execution_count": 3,
   "metadata": {},
   "outputs": [],
   "source": [
    "uClient = uReq(my_url)\n",
    "page_html = uClient.read()\n",
    "uClient.close()\n",
    "\n",
    "page_soup = soup(page_html, 'html.parser')"
   ]
  },
  {
   "cell_type": "code",
   "execution_count": 4,
   "metadata": {},
   "outputs": [
    {
     "data": {
      "text/plain": [
       "array([20.  ,   nan,  4.45,   nan,  4.95,   nan,   nan,   nan,   nan,\n",
       "        7.74,  8.75,   nan,   nan,   nan,   nan,  8.99,   nan,   nan,\n",
       "       14.98, 11.98,   nan, 12.99,   nan,   nan,   nan,   nan, 18.41,\n",
       "        1.95,   nan,   nan,   nan,   nan,   nan,   nan,   nan,   nan,\n",
       "        2.94,   nan,   nan,   nan,  9.99,   nan,   nan,  8.65,   nan,\n",
       "        7.99,  8.95, 13.45, 19.79,   nan,   nan,   nan,   nan,   nan,\n",
       "         nan,   nan, 20.69,   nan,   nan, 12.99, 12.95,   nan,   nan,\n",
       "         nan,  8.95, 21.95,   nan,   nan,   nan,   nan,  8.99, 11.95,\n",
       "         nan,   nan,   nan,   nan])"
      ]
     },
     "execution_count": 4,
     "metadata": {},
     "output_type": "execute_result"
    }
   ],
   "source": [
    "divs = page_soup.findAll('div',{'class':'s-item__details clearfix'})    # Find the HTML tag with the data we are looking for and fetch all instances of it\n",
    "prices = []\n",
    "\n",
    "for case in divs: \n",
    "    price = case.find('span',{'class':\"s-item__price\"})\n",
    "    price = price.text[1:]\n",
    "    price = price.replace(',','')\n",
    "    prices.append(price)\n",
    "\n",
    "\n",
    "prices = pd.to_numeric(prices,errors='coerce')\n",
    "prices"
   ]
  },
  {
   "cell_type": "code",
   "execution_count": 7,
   "metadata": {},
   "outputs": [
    {
     "data": {
      "text/plain": [
       "Text(0, 0.5, 'Price in USD')"
      ]
     },
     "execution_count": 7,
     "metadata": {},
     "output_type": "execute_result"
    },
    {
     "data": {
      "image/png": "[encoded data removed]",
      "text/plain": [
       "<Figure size 432x288 with 1 Axes>"
      ]
     },
     "metadata": {},
     "output_type": "display_data"
    }
   ],
   "source": [
    "import seaborn as sns\n",
    "sns.set()\n",
    "box = sns.boxplot(data=prices)\n",
    "box.set_xlabel(\"iPhone 13 Cases\")\n",
    "box.set_ylabel(\"Price in USD\")"
   ]
  },
  {
   "cell_type": "code",
   "execution_count": 6,
   "metadata": {},
   "outputs": [
    {
     "data": {
      "image/png": "[encoded data removed]",
      "text/plain": [
       "<Figure size 360x360 with 1 Axes>"
      ]
     },
     "metadata": {},
     "output_type": "display_data"
    }
   ],
   "source": [
    "hist = sns.displot(data=prices)"
   ]
  }
 ],
 "metadata": {
  "interpreter": {
   "hash": "cc66bf1a1cac9323b91927a78f07dc7e452d6b2e297a31f577966bda590b7c6f"
  },
  "kernelspec": {
   "display_name": "Python 3.8.5 ('base')",
   "language": "python",
   "name": "python3"
  },
  "language_info": {
   "codemirror_mode": {
    "name": "ipython",
    "version": 3
   },
   "file_extension": ".py",
   "mimetype": "text/x-python",
   "name": "python",
   "nbconvert_exporter": "python",
   "pygments_lexer": "ipython3",
   "version": "3.8.5"
  },
  "orig_nbformat": 4
 },
 "nbformat": 4,
 "nbformat_minor": 2
}
